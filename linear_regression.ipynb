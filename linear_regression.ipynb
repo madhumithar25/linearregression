{
  "nbformat": 4,
  "nbformat_minor": 0,
  "metadata": {
    "colab": {
      "name": "linear regression.ipynb",
      "provenance": [],
      "collapsed_sections": []
    },
    "kernelspec": {
      "name": "python3",
      "display_name": "Python 3"
    },
    "language_info": {
      "name": "python"
    }
  },
  "cells": [
    {
      "cell_type": "code",
      "metadata": {
        "colab": {
          "base_uri": "https://localhost:8080/"
        },
        "id": "jALFMhJ1avgw",
        "outputId": "aafc40a5-1f86-4f9d-a738-308bc798c11c"
      },
      "source": [
        "import pandas as pd\n",
        "data=pd.read_csv(\"/content/year and profit.csv\")\n",
        "print(data.head())\n",
        "x=data.iloc[:,:1]\n",
        "y=data.iloc[:,1]\n",
        "from sklearn.model_selection import *\n",
        "x_train,x_test,y_train,y_test=train_test_split(x,y,test_size=0.5,random_state=0)\n",
        "from sklearn.linear_model import *\n",
        "lin_reg=LinearRegression()\n",
        "lin_reg.fit(x_train,y_train)\n",
        "data_predict=lin_reg.predict(x_test)\n",
        "print(data_predict,y_test)"
      ],
      "execution_count": 25,
      "outputs": [
        {
          "output_type": "stream",
          "name": "stdout",
          "text": [
            "   year    profit\n",
            "0   1990   800000\n",
            "1   1991  1100000\n",
            "2   1992  1300000\n",
            "3   1993  1500000\n",
            "4   1994  1200000\n",
            "[1290468.87447365 1591834.52828041 1417969.72800728 1383196.76795265\n",
            " 1568652.55491066 1545470.58154091 1580243.54159554 1394787.75463753\n",
            " 1464333.67474679 1522288.60817116 1325241.83452828 1452742.68806191\n",
            " 1360014.7945829  1429560.71469216 1533879.59485603] 2     1300000\n",
            "28     800000\n",
            "13    1400000\n",
            "10    1200000\n",
            "26    1100000\n",
            "24    1400000\n",
            "27    1000000\n",
            "11     900000\n",
            "17    2000000\n",
            "22    1700000\n",
            "5     1600000\n",
            "16    1500000\n",
            "8     1100000\n",
            "14    1600000\n",
            "23    1600000\n",
            "Name: profit, dtype: int64\n"
          ]
        }
      ]
    },
    {
      "cell_type": "markdown",
      "metadata": {
        "id": "40GTxXAZmMYR"
      },
      "source": [
        "#test set"
      ]
    },
    {
      "cell_type": "code",
      "metadata": {
        "colab": {
          "base_uri": "https://localhost:8080/",
          "height": 290
        },
        "id": "VSZIV_kjf_j7",
        "outputId": "50155f4b-c80f-4402-a97f-69fb6354906d"
      },
      "source": [
        "import matplotlib.pyplot as plt\n",
        "plt.scatter(x_test,y_test,color=\"red\")\n",
        "plt.scatter(x_train,lin_reg.predict(x_train),color=\"green\")\n",
        "plt.xlabel(\"Year\")\n",
        "plt.ylabel(\"Profit\")\n",
        "\n",
        "plt.show()"
      ],
      "execution_count": 26,
      "outputs": [
        {
          "output_type": "display_data",
          "data": {
            "image/png": "[encoded data removed]",
            "text/plain": [
              "<Figure size 432x288 with 1 Axes>"
            ]
          },
          "metadata": {
            "needs_background": "light"
          }
        }
      ]
    },
    {
      "cell_type": "markdown",
      "metadata": {
        "id": "dXfdNMUml7Ke"
      },
      "source": [
        "# train set\n"
      ]
    },
    {
      "cell_type": "code",
      "metadata": {
        "colab": {
          "base_uri": "https://localhost:8080/",
          "height": 290
        },
        "id": "8LGPIAxliIVP",
        "outputId": "b213c2ad-f5d0-40bd-9faf-8592ab6f9c1b"
      },
      "source": [
        "plt.scatter(x_train,y_train,color=\"blue\")\n",
        "plt.scatter(x_train,lin_reg.predict(x_train),color=\"pink\")\n",
        "plt.xlabel(\"Year\")\n",
        "plt.ylabel(\"Profit\")\n",
        "\n",
        "plt.show()\n"
      ],
      "execution_count": 27,
      "outputs": [
        {
          "output_type": "display_data",
          "data": {
            "image/png": "[encoded data removed]",
            "text/plain": [
              "<Figure size 432x288 with 1 Axes>"
            ]
          },
          "metadata": {
            "needs_background": "light"
          }
        }
      ]
    },
    {
      "cell_type": "markdown",
      "metadata": {
        "id": "k_on1wWUly-V"
      },
      "source": [
        "#new prediction\n"
      ]
    },
    {
      "cell_type": "code",
      "metadata": {
        "colab": {
          "base_uri": "https://localhost:8080/"
        },
        "id": "bXK1SIqkjN3L",
        "outputId": "7bf4a480-9e6e-4f16-dd2a-cb131b9edf7e"
      },
      "source": [
        "year=int(input(print(\"enter year\")))\n",
        "data_new_predict=lin_reg.predict([[year]])\n",
        "print(\"In this year={} company will get profit={}\".format(year,data_new_predict))"
      ],
      "execution_count": 28,
      "outputs": [
        {
          "output_type": "stream",
          "name": "stdout",
          "text": [
            "enter year\n",
            "2034\n",
            "In this year=2034 company will get profit=[1777290.31523842]\n"
          ]
        }
      ]
    }
  ]
}